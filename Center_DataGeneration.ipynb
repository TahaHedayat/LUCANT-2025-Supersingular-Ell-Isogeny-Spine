{
 "cells": [
  {
   "cell_type": "code",
   "execution_count": 2,
   "id": "4994f577-37cb-4407-854b-11ab0ea569df",
   "metadata": {},
   "outputs": [],
   "source": [
    "import csv\n",
    "\n",
    "def get_center(p):\n",
    "    Fp = GF(p)\n",
    "    Fp2 = Fp.extension(2)\n",
    "    if p.mod(4) == 3:\n",
    "        E = EllipticCurve(Fp2,j=1728)\n",
    "    if p.mod(3) == 2:\n",
    "        E = EllipticCurve(Fp2,j=0)\n",
    "    else:\n",
    "        q = next(q for q in Primes() if q%4 == 3 and kronecker_symbol(-q,p) == -1)\n",
    "        K = QuadraticField(-q)\n",
    "        H = K.hilbert_class_polynomial()\n",
    "        E = EllipticCurve(Fp2,j = H.change_ring(Fp2).any_root())\n",
    "\n",
    "    G = E.isogeny_ell_graph(ell,label_by_j= True)\n",
    "    FpVs = [v for v in G.vertices() if Fp2(v)^p == Fp2(v)]\n",
    "    SpineSize = len(FpVs)\n",
    "    GCenter = G.center()\n",
    "    CenterSize = len(GCenter)\n",
    "    FpInCenter = len([vert for vert in GCenter if Fp2(vert)^p == Fp2(vert)])\n",
    "    GraphSize = len(G.vertices())\n",
    "    return [SpineSize,CenterSize,GraphSize,FpInCenter]"
   ]
  },
  {
   "cell_type": "code",
   "execution_count": 5,
   "id": "0b90f0ee-e83a-41db-86af-268f02e202ca",
   "metadata": {},
   "outputs": [
    {
     "name": "stdout",
     "output_type": "stream",
     "text": [
      "COUNTER = 100\n",
      "COUNTER = 200\n",
      "COUNTER = 300\n",
      "COUNTER = 400\n",
      "COUNTER = 500\n",
      "COUNTER = 600\n",
      "COUNTER = 700\n",
      "COUNTER = 800\n",
      "COUNTER = 900\n",
      "COUNTER = 1000\n",
      "COUNTER = 1100\n",
      "COUNTER = 1200\n",
      "COUNTER = 1300\n",
      "COUNTER = 1400\n",
      "COUNTER = 1500\n",
      "COUNTER = 1600\n",
      "COUNTER = 1700\n",
      "COUNTER = 1800\n",
      "COUNTER = 1900\n",
      "COUNTER = 2000\n",
      "COUNTER = 2100\n",
      "COUNTER = 2200\n",
      "CPU times: user 1h 29min 27s, sys: 26.5 s, total: 1h 29min 54s\n",
      "Wall time: 8h 31min 3s\n"
     ]
    }
   ],
   "source": [
    "%%time\n",
    "p = next_prime(3)\n",
    "ell = 2\n",
    "CenterData = [['p', 'size of spine', 'size of center','size of graph', 'Fp vertices in center']]\n",
    "COUNTER=0\n",
    "BLOCK = 100\n",
    "\n",
    "with open('center012925.csv', 'w', newline='') as csvfile:\n",
    "            writer = csv.writer(csvfile)\n",
    "            writer.writerows(CenterData)\n",
    "            CenterData = []\n",
    "    \n",
    "while p < 20000:\n",
    "    data_p = get_center(p)\n",
    "    CenterData.append([p] + data_p)\n",
    "    p = next_prime(p)\n",
    "    COUNTER += 1\n",
    "    if COUNTER % BLOCK == 0:\n",
    "        with open('center012925.csv', 'a', newline='') as csvfile:\n",
    "            writer = csv.writer(csvfile)\n",
    "            writer.writerows(CenterData)\n",
    "            CenterData = []\n",
    "            print(\"COUNTER =\",COUNTER)\n",
    "            \n",
    "with open('center012925.csv', 'a', newline='') as csvfile:\n",
    "            writer = csv.writer(csvfile)\n",
    "            writer.writerows(CenterData)"
   ]
  },
  {
   "cell_type": "code",
   "execution_count": null,
   "id": "fed103dd-7000-4e2d-9f2c-5f727568a5cd",
   "metadata": {},
   "outputs": [
    {
     "name": "stdout",
     "output_type": "stream",
     "text": [
      "COUNTER = 100\n",
      "COUNTER = 200\n",
      "COUNTER = 300\n",
      "COUNTER = 400\n",
      "COUNTER = 500\n",
      "COUNTER = 600\n",
      "COUNTER = 700\n",
      "COUNTER = 800\n"
     ]
    }
   ],
   "source": [
    "%%time\n",
    "p = next_prime(3)\n",
    "ell = 3\n",
    "CenterData = [['p', 'size of spine', 'size of center','size of graph', 'Fp vertices in center']]\n",
    "COUNTER=0\n",
    "BLOCK = 100\n",
    "\n",
    "with open('center_ell3_013125.csv', 'w', newline='') as csvfile:\n",
    "            writer = csv.writer(csvfile)\n",
    "            writer.writerows(CenterData)\n",
    "            CenterData = []\n",
    "    \n",
    "while p < 10000:\n",
    "    data_p = get_center(p)\n",
    "    CenterData.append([p] + data_p)\n",
    "    p = next_prime(p)\n",
    "    COUNTER += 1\n",
    "    if COUNTER % BLOCK == 0:\n",
    "        with open('center_ell3_013125.csv', 'a', newline='') as csvfile:\n",
    "            writer = csv.writer(csvfile)\n",
    "            writer.writerows(CenterData)\n",
    "            CenterData = []\n",
    "            print(\"COUNTER =\",COUNTER)\n",
    "            \n",
    "with open('center_ell3_013125.csv', 'a', newline='') as csvfile:\n",
    "            writer = csv.writer(csvfile)\n",
    "            writer.writerows(CenterData)"
   ]
  },
  {
   "cell_type": "code",
   "execution_count": null,
   "id": "84af6f5a-dba2-4fa5-9282-d736da007210",
   "metadata": {},
   "outputs": [],
   "source": []
  }
 ],
 "metadata": {
  "kernelspec": {
   "display_name": "SageMath 10.4",
   "language": "sage",
   "name": "sagemath-10.4"
  },
  "language_info": {
   "codemirror_mode": {
    "name": "ipython",
    "version": 3
   },
   "file_extension": ".py",
   "mimetype": "text/x-python",
   "name": "python",
   "nbconvert_exporter": "python",
   "pygments_lexer": "ipython3",
   "version": "3.12.4"
  }
 },
 "nbformat": 4,
 "nbformat_minor": 5
}
