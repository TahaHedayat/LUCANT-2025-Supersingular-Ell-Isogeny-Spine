{
 "cells": [
  {
   "cell_type": "code",
   "execution_count": 1,
   "id": "efe08fec",
   "metadata": {},
   "outputs": [],
   "source": [
    "#############################################################################################################################\n",
    "# Function name:\n",
    "# - getPValuesForGivenEllWhenFloor\n",
    "#############################################################################################################################\n",
    "# Inputes:\n",
    "# - ell = a prime.\n",
    "#############################################################################################################################\n",
    "# Outputs:\n",
    "# - [(p_1, a_1, b_1), (p_2, a_2, b_2), ...] where p_i, a_i, b_i are positive integers, and p_i is a prime.\n",
    "#\n",
    "# Note that each tupple (p,a,b) satisfies the diophantine equation ell^2 = a^2 + p*b^2.\n",
    "#############################################################################################################################\n",
    "# Given the value of ell, the function getPValuesForGivenEllWhenFloor will find all tupples (p,a,b) of in the set\n",
    "# prime x interger x interger such that the graph G_ell(F_p) has a vertex on the floor with an outgoing multi-edge given that \n",
    "# ell < p < ell^2. This is equivalent to finding a solution to the diphantine equation ell^2 = a^2 + p*b^2.\n",
    "#############################################################################################################################\n",
    "\n",
    "def getPValuesForGivenEllWhenFloor(ell):\n",
    "    FSE = int(ceil(sqrt(ell)))\n",
    "    EllSquared = ell^2\n",
    "    ValidPValues = []\n",
    "    for p in Primes():\n",
    "        if p >= EllSquared:\n",
    "            break\n",
    "        elif p > 5 and p > ell:\n",
    "            for a in range(1,ell):\n",
    "                for b in range(1, FSE):\n",
    "                    LHS = a^2 + (b^2 * p)\n",
    "                    if LHS == EllSquared:\n",
    "                        ValidPValues.append((p, a, b))\n",
    "    return ValidPValues"
   ]
  },
  {
   "cell_type": "code",
   "execution_count": 2,
   "id": "645fb8e9",
   "metadata": {},
   "outputs": [],
   "source": [
    "def getPValuesForGivenEllWhenSurface(ell):\n",
    "    EllSquared = ell^2\n",
    "    MaxP = 4 * (EllSquared)\n",
    "    MaxB = int(ceil(2 * sqrt(ell)))\n",
    "    ValidPValues = []\n",
    "    for p in Primes():\n",
    "        if p >= MaxP:\n",
    "            break\n",
    "        elif p > 5 and p > ell and p%4 == 3:\n",
    "            c = (p-3)/4\n",
    "            cMod2 = c%2\n",
    "            for a in range(1,ell):\n",
    "                aMod2 = a%2\n",
    "                for b in range(1, MaxB):\n",
    "                    bMod2 = b%2\n",
    "                    if (bMod2 == 2 and bMod2 != aMod2) or (bMod2 == 1 and bMod2 == cMod2):\n",
    "                        LHSPosB = a^2 + a*b + b^2*(c+1)\n",
    "                        LHSNegB = a^2 - a*b + b^2*(c+1)\n",
    "                        if LHSPosB == EllSquared:\n",
    "                            ValidPValues.append((p, a, b))\n",
    "                        if LHSNegB == EllSquared:\n",
    "                            ValidPValues.append((p, a, -b))\n",
    "    return ValidPValues"
   ]
  },
  {
   "cell_type": "code",
   "execution_count": null,
   "id": "5c4a49b4",
   "metadata": {},
   "outputs": [],
   "source": []
  }
 ],
 "metadata": {
  "kernelspec": {
   "display_name": "SageMath 9.5",
   "language": "sage",
   "name": "sagemath"
  },
  "language_info": {
   "codemirror_mode": {
    "name": "ipython",
    "version": 3
   },
   "file_extension": ".py",
   "mimetype": "text/x-python",
   "name": "python",
   "nbconvert_exporter": "python",
   "pygments_lexer": "ipython3",
   "version": "3.10.12"
  }
 },
 "nbformat": 4,
 "nbformat_minor": 5
}
